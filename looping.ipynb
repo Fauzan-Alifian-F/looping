{
 "cells": [
  {
   "cell_type": "code",
   "execution_count": 2,
   "id": "8d90fe44",
   "metadata": {},
   "outputs": [
    {
     "name": "stdout",
     "output_type": "stream",
     "text": [
      "1 2 3 4 5 6 7 8 9 10 "
     ]
    }
   ],
   "source": [
    "#mencetak angka 1-100\n",
    "\n",
    "for i in range (1,11):\n",
    "    print(i, end=\" \")"
   ]
  },
  {
   "cell_type": "code",
   "execution_count": 5,
   "id": "3d7decd3",
   "metadata": {},
   "outputs": [
    {
     "name": "stdout",
     "output_type": "stream",
     "text": [
      "10 20 30 40 50 60 70 80 90 100 "
     ]
    }
   ],
   "source": [
    "# mencetak angka 10 20 30 --- 100\n",
    "\n",
    "for i in range (10,101,10):\n",
    "    print(i, end=\" \")"
   ]
  },
  {
   "cell_type": "code",
   "execution_count": 6,
   "id": "9d23dff5",
   "metadata": {},
   "outputs": [
    {
     "name": "stdout",
     "output_type": "stream",
     "text": [
      "10 20 30 40 50 60 70 80 90 100 "
     ]
    }
   ],
   "source": [
    "for i in range(1,11):\n",
    "    print(i * 10, end =\" \")"
   ]
  },
  {
   "cell_type": "code",
   "execution_count": 7,
   "id": "295517a8",
   "metadata": {},
   "outputs": [
    {
     "name": "stdout",
     "output_type": "stream",
     "text": [
      "10 9 8 7 6 5 4 3 2 1 "
     ]
    }
   ],
   "source": [
    "# mencetak angka 10 9 8 7 ... 1\n",
    "\n",
    "for i in range (1,11):\n",
    "    print(11 - i, end=\" \")"
   ]
  },
  {
   "cell_type": "code",
   "execution_count": 19,
   "id": "f4ef5156",
   "metadata": {},
   "outputs": [
    {
     "name": "stdout",
     "output_type": "stream",
     "text": [
      "10 9 8 7 6 5 4 3 2 1 "
     ]
    }
   ],
   "source": [
    "for i in range (10,0,-1):\n",
    "    print(i, end=\" \")"
   ]
  },
  {
   "cell_type": "code",
   "execution_count": 37,
   "id": "09330962",
   "metadata": {},
   "outputs": [
    {
     "name": "stdout",
     "output_type": "stream",
     "text": [
      "1 2 3 4 5 6 7 8 9 10 "
     ]
    }
   ],
   "source": [
    "# mencetak angka 1 -2 3 -4 5 -6 ... 10\n",
    "sign = -1\n",
    "for i in range (1,11):\n",
    "    sign = sign * -1\n",
    "    print(i * sign , end =\" \")\n",
    "\n"
   ]
  },
  {
   "cell_type": "code",
   "execution_count": 6,
   "id": "29c04693",
   "metadata": {},
   "outputs": [
    {
     "name": "stdout",
     "output_type": "stream",
     "text": [
      "1 -2 3 -4 5 -6 7 -8 9 -10 "
     ]
    }
   ],
   "source": [
    "# mencetak angka 1 -2 3 -4 5 -6 ... 10\n",
    "sign = 1\n",
    "for i in range (1,11):\n",
    "    sign = sign * -1\n",
    "    print(-i * sign , end =\" \")\n",
    "\n"
   ]
  },
  {
   "cell_type": "code",
   "execution_count": 7,
   "id": "f2cf0c01",
   "metadata": {},
   "outputs": [
    {
     "name": "stdout",
     "output_type": "stream",
     "text": [
      "1 -2 3 -4 5 -6 7 -8 9 -10 "
     ]
    }
   ],
   "source": [
    "# mencetak angka 1 -2 3 -4 5 -6 ... 10\n",
    "sign = 1\n",
    "for i in range (1,11):\n",
    "    print(i * sign , end =\" \")\n",
    "    sign = sign * -1\n",
    "\n"
   ]
  },
  {
   "cell_type": "code",
   "execution_count": 8,
   "id": "3fb7856c",
   "metadata": {},
   "outputs": [
    {
     "name": "stdout",
     "output_type": "stream",
     "text": [
      "Isikan Bilangan:8\n",
      "8! adalah 40320\n"
     ]
    }
   ],
   "source": [
    "# mencari bilangan faktorial\n",
    "# input = 3, output 3 * 2 * 1 = 6\n",
    "# input = 4, output 4 * 3 * 2 * 1 = 24\n",
    "\n",
    "bil = int(input('Isikan Bilangan:'))\n",
    "\n",
    "hasil = 1 \n",
    "\n",
    "for i in range(1, bil+1):\\\n",
    "    hasil = hasil * i\n",
    "    \n",
    "print(f\"{bil}! adalah {hasil}\")\n"
   ]
  },
  {
   "cell_type": "code",
   "execution_count": 25,
   "id": "8b222928",
   "metadata": {},
   "outputs": [
    {
     "ename": "IndentationError",
     "evalue": "unexpected indent (4150738575.py, line 11)",
     "output_type": "error",
     "traceback": [
      "\u001b[1;36m  Input \u001b[1;32mIn [25]\u001b[1;36m\u001b[0m\n\u001b[1;33m    label = label + str((bil+1)- i) + \" * \"\u001b[0m\n\u001b[1;37m    ^\u001b[0m\n\u001b[1;31mIndentationError\u001b[0m\u001b[1;31m:\u001b[0m unexpected indent\n"
     ]
    }
   ],
   "source": [
    "# mencari bilangan faktorial\n",
    "# input = 3, output 3 * 2 * 1 = 6\n",
    "# input = 4, output 4 * 3 * 2 * 1 = 24\n",
    "\n",
    "bil = int(input('Isikan Bilangan:'))\n",
    "\n",
    "hasil = 1 \n",
    "label = \" \"\n",
    "for i in range(1, bil+1):\\\n",
    "    hasil = hasil * i\n",
    "     label = label + str((bil+1)- i) + \" * \"\n",
    "print(f\"{bil}! adalah {hasil}\")\n",
    "print(f\"{label} = {hasil}\")\n"
   ]
  },
  {
   "cell_type": "code",
   "execution_count": 10,
   "id": "8db3efd6",
   "metadata": {},
   "outputs": [
    {
     "name": "stdout",
     "output_type": "stream",
     "text": [
      "8! adalah 1\n",
      " 8 * 7 * 6 * 5 * 4 * 3 * 2 * 1 = 1\n"
     ]
    }
   ],
   "source": [
    "hasil = 1\n",
    "label = \" \"\n",
    "for i in range (1, bil+1):\n",
    "    hasil = hasil * 1 \n",
    "    if i < bil:\n",
    "        label = label + str((bil+1) - i) + \" * \"\n",
    "    else:\n",
    "        label = label + str((bil+1) - i)\n",
    "print(f\"{bil}! adalah {hasil}\")\n",
    "print(f\"{label} = {hasil}\")"
   ]
  },
  {
   "cell_type": "code",
   "execution_count": 11,
   "id": "07c2bd9c",
   "metadata": {},
   "outputs": [
    {
     "name": "stdout",
     "output_type": "stream",
     "text": [
      "Isikan Bilangan:8\n",
      "Isikan pangkat:2\n",
      "8 pangkat 2 adalah 64\n"
     ]
    }
   ],
   "source": [
    "# menghitung pangkat\n",
    "bil = int(input(\"Isikan Bilangan:\"))\n",
    "pangkat = int(input(\"Isikan pangkat:\"))\n",
    "hasil = 1\n",
    "for i in range (1, pangkat+1):\n",
    "    hasil *= bil\n",
    "    \n",
    "print(f\"{bil} pangkat {pangkat} adalah {hasil}\")"
   ]
  },
  {
   "cell_type": "code",
   "execution_count": 16,
   "id": "76e21bf0",
   "metadata": {},
   "outputs": [
    {
     "name": "stdout",
     "output_type": "stream",
     "text": [
      "masukan bilangan:6\n",
      "6 adalah bukan bilangan prima\n"
     ]
    }
   ],
   "source": [
    "# mengecek bilangan prima atau bukan\n",
    "# bil.prima adalah bilangan yang hanya bisa dibagi dengan 1 dan bilangan itu sendiri => 2 faktor\n",
    "\n",
    "bil = int(input(\"masukan bilangan:\"))\n",
    "jumlah = 0 \n",
    "for i in range(1, bil + 1):\n",
    "    sisa = bil % i \n",
    "    if sisa == 0:\n",
    "        jumlah = jumlah + 1\n",
    "        \n",
    "if jumlah == 2:    \n",
    "        print(f\"{bil} adalah bilangan prima\")\n",
    "else :\n",
    "        print(f\"{bil} adalah bukan bilangan prima\")\n",
    "        "
   ]
  },
  {
   "cell_type": "code",
   "execution_count": 24,
   "id": "5c2d8934",
   "metadata": {},
   "outputs": [
    {
     "name": "stdout",
     "output_type": "stream",
     "text": [
      "masukan bilangan:7\n",
      "7 adalah Bilangan Prima\n"
     ]
    }
   ],
   "source": [
    "bil = int(input(\"masukan bilangan:\"))\n",
    "keterangan = \"Bilangan Prima\"\n",
    "\n",
    "for i in range(2, bil):\n",
    "    sisa = bil % i \n",
    "    if sisa == 0:\n",
    "        keterangan = \"Bukan bilangan PRIMA\"\n",
    "        break\n",
    "          \n",
    "print(f\"{bil} adalah {keterangan}\")\n"
   ]
  },
  {
   "cell_type": "code",
   "execution_count": 18,
   "id": "2e0ceceb",
   "metadata": {},
   "outputs": [
    {
     "name": "stdout",
     "output_type": "stream",
     "text": [
      "1 2 3 4 5 \n",
      "1 2 3 4 6 7 8 9 "
     ]
    }
   ],
   "source": [
    "# break and continue\n",
    "\n",
    "for i in range(1,100):\n",
    "    print(i, end = \" \")\n",
    "    if i==5:\n",
    "        break\n",
    "print()\n",
    "\n",
    "for j in range(1,10):\n",
    "    if j == 5:\n",
    "        continue\n",
    "    print(j, end = \" \")"
   ]
  },
  {
   "cell_type": "code",
   "execution_count": 9,
   "id": "4512f14c",
   "metadata": {},
   "outputs": [
    {
     "name": "stdout",
     "output_type": "stream",
     "text": [
      "isikan kalimat:baoak mancing ga pulang\n",
      "Jumlah huruf a:5\\jumlah huruf i:1\\jumlah huruf vokal_u:1\\jumlah huruf e:0\\jumlah huruf o:1\n"
     ]
    }
   ],
   "source": [
    "#Looping untuk string, menghitung huruf vokal a=?, i=?, u=? e=?, o=?\n",
    "\n",
    "\n",
    "kalimat = input(\"isikan kalimat:\")\n",
    "vokal_a=0\n",
    "vokal_i=0\n",
    "vokal_u=0\n",
    "vokal_e=0\n",
    "vokal_o=0\n",
    "\n",
    "vokal_a = 0\n",
    "for i in kalimat:\n",
    "    if i=='a':\n",
    "        vokal_a += 1\n",
    "    elif i=='i':\n",
    "        vokal_i += 1\n",
    "    elif i=='u':\n",
    "        vokal_u += 1\n",
    "    elif i=='e':\n",
    "        vokal_e += 1\n",
    "    elif i=='o':\n",
    "        vokal_o += 1\n",
    "print(f\"Jumlah huruf a:{vokal_a}\\jumlah huruf i:{vokal_i}\\jumlah huruf vokal_u:{vokal_u}\\jumlah huruf e:{vokal_e}\\jumlah huruf o:{vokal_o}\")\n",
    "total = vokal_a+vokal_i+vokal_u+vokal_e+vokal_o\n",
    "    \n"
   ]
  },
  {
   "cell_type": "code",
   "execution_count": 15,
   "id": "cdcaaa29",
   "metadata": {},
   "outputs": [
    {
     "name": "stdout",
     "output_type": "stream",
     "text": [
      "Isikan Kalimat:katak\n",
      "Bukan palindrome\n"
     ]
    }
   ],
   "source": [
    "# kalimat palidrome atau bukan\n",
    "# palindrome adalah kalimat yang dibaca dari kiri ke kanan == kanan ke kiri\n",
    "# katak = palindrome\n",
    "# kasur = rusak \n",
    "\n",
    "kalimat = input ('Isikan Kalimat:')\n",
    "panjang = len(kalimat)\n",
    "\n",
    "for i in range (0,panjang):\n",
    "    kika = kalimat[i]\n",
    "    kaki = kalimat[panjang  - i-1]\n",
    "    if kika != kaki:\n",
    "        keterangan = \"Bukan palindrome\"\n",
    "        break\n",
    "        \n",
    "print(f\"{keterangan}\")        "
   ]
  },
  {
   "cell_type": "code",
   "execution_count": 26,
   "id": "dd50da7c",
   "metadata": {},
   "outputs": [
    {
     "ename": "IndentationError",
     "evalue": "unexpected indent (127844253.py, line 14)",
     "output_type": "error",
     "traceback": [
      "\u001b[1;36m  Input \u001b[1;32mIn [26]\u001b[1;36m\u001b[0m\n\u001b[1;33m    while(jawab!=\"Y\" and jawab !=\"T\")\u001b[0m\n\u001b[1;37m    ^\u001b[0m\n\u001b[1;31mIndentationError\u001b[0m\u001b[1;31m:\u001b[0m unexpected indent\n"
     ]
    }
   ],
   "source": [
    "ulang = \"Y\"\n",
    "while(ulang==\"Y\"):\n",
    "    kalimat = input ('Isikan Kalimat:')\n",
    "    panjang = len(kalimat)\n",
    "    keterangan = \"PALINDROME\"\n",
    "for i in range (0,panjang):\n",
    "    kika = kalimat[i]\n",
    "    kaki = kalimat[panjang  - i-1].lower()\n",
    "    if kika != kaki:\n",
    "        keterangan = \"Bukan palindrome\"\n",
    "        break      \n",
    "    print(f\"{keterangan}\")\n",
    "    jawab =\"\"\n",
    "        while(jawab!=\"Y\" and jawab !=\"T\")\n",
    "            jawab = input (\"Apakah Mau Mengulang Program(Y/T)?:\")\n",
    "        ulang = jawab"
   ]
  },
  {
   "cell_type": "code",
   "execution_count": 28,
   "id": "e48def92",
   "metadata": {},
   "outputs": [
    {
     "name": "stdout",
     "output_type": "stream",
     "text": [
      "i:(i) dan j:1\n",
      "i:(i) dan j:2\n",
      "i:(i) dan j:3\n",
      "i:(i) dan j:4\n",
      "i:(i) dan j:1\n",
      "i:(i) dan j:2\n",
      "i:(i) dan j:3\n",
      "i:(i) dan j:4\n",
      "i:(i) dan j:1\n",
      "i:(i) dan j:2\n",
      "i:(i) dan j:3\n",
      "i:(i) dan j:4\n",
      "i:(i) dan j:1\n",
      "i:(i) dan j:2\n",
      "i:(i) dan j:3\n",
      "i:(i) dan j:4\n"
     ]
    }
   ],
   "source": [
    "# nested for\n",
    "\n",
    "for i in range(1,5):\n",
    "    for j in range(1,5):\n",
    "        print(f'i:(i) dan j:{j}')\n"
   ]
  }
 ],
 "metadata": {
  "kernelspec": {
   "display_name": "Python 3 (ipykernel)",
   "language": "python",
   "name": "python3"
  },
  "language_info": {
   "codemirror_mode": {
    "name": "ipython",
    "version": 3
   },
   "file_extension": ".py",
   "mimetype": "text/x-python",
   "name": "python",
   "nbconvert_exporter": "python",
   "pygments_lexer": "ipython3",
   "version": "3.9.12"
  }
 },
 "nbformat": 4,
 "nbformat_minor": 5
}
